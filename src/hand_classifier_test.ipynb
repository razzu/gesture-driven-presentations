{
 "cells": [
  {
   "cell_type": "code",
   "execution_count": 2,
   "metadata": {},
   "outputs": [],
   "source": [
    "import random\n",
    "\n",
    "import numpy as np\n",
    "import matplotlib.pyplot as plt\n",
    "from sklearn import datasets, svm, metrics\n",
    "from sklearn.model_selection import train_test_split\n",
    "from sklearn.ensemble import RandomForestClassifier\n",
    "from sklearn.linear_model import LogisticRegression\n",
    "from joblib import dump, load\n",
    "from os import listdir\n",
    "from os.path import isfile, join"
   ]
  },
  {
   "cell_type": "code",
   "execution_count": 3,
   "metadata": {},
   "outputs": [],
   "source": [
    "class0_folder = \"data/right_hand_palm_segmented\"\n",
    "class1_folder = \"data/right_hand_fist_segmented\"\n",
    "class0_paths = [join(class0_folder, f) for f in listdir(class0_folder) if isfile(join(class0_folder, f))]\n",
    "class1_paths = [join(class1_folder, f) for f in listdir(class1_folder) if isfile(join(class1_folder, f))]"
   ]
  },
  {
   "cell_type": "code",
   "execution_count": 4,
   "metadata": {},
   "outputs": [
    {
     "name": "stdout",
     "output_type": "stream",
     "text": [
      "(150, 150, 3)\n",
      "[0. 0. 0.]\n",
      "0.0\n"
     ]
    },
    {
     "data": {
      "image/png": "[encoded data removed]",
      "text/plain": [
       "<Figure size 432x288 with 1 Axes>"
      ]
     },
     "metadata": {
      "needs_background": "light"
     },
     "output_type": "display_data"
    }
   ],
   "source": [
    "test_img = plt.imread(class1_paths[0])\n",
    "plt.figure()\n",
    "plt.imshow(test_img)\n",
    "\n",
    "print(test_img.shape)\n",
    "print(test_img[60,75])\n",
    "test_img = np.sum(test_img, axis=2)/3\n",
    "print(test_img[60,75])"
   ]
  },
  {
   "cell_type": "code",
   "execution_count": 5,
   "metadata": {},
   "outputs": [
    {
     "ename": "NameError",
     "evalue": "name 'cv2' is not defined",
     "output_type": "error",
     "traceback": [
      "\u001b[1;31m---------------------------------------------------------------------------\u001b[0m",
      "\u001b[1;31mNameError\u001b[0m                                 Traceback (most recent call last)",
      "\u001b[1;32m<ipython-input-5-083c97372573>\u001b[0m in \u001b[0;36m<module>\u001b[1;34m\u001b[0m\n\u001b[0;32m      1\u001b[0m \u001b[1;31m# Read all images.\u001b[0m\u001b[1;33m\u001b[0m\u001b[1;33m\u001b[0m\u001b[1;33m\u001b[0m\u001b[0m\n\u001b[1;32m----> 2\u001b[1;33m \u001b[0mclass0_imgs\u001b[0m \u001b[1;33m=\u001b[0m \u001b[1;33m[\u001b[0m\u001b[0mcv2\u001b[0m\u001b[1;33m.\u001b[0m\u001b[0mresize\u001b[0m\u001b[1;33m(\u001b[0m\u001b[0mplt\u001b[0m\u001b[1;33m.\u001b[0m\u001b[0mimread\u001b[0m\u001b[1;33m(\u001b[0m\u001b[0mf\u001b[0m\u001b[1;33m)\u001b[0m\u001b[1;33m,\u001b[0m \u001b[1;33m(\u001b[0m\u001b[1;36m100\u001b[0m\u001b[1;33m,\u001b[0m\u001b[1;36m100\u001b[0m\u001b[1;33m)\u001b[0m\u001b[1;33m)\u001b[0m \u001b[1;32mfor\u001b[0m \u001b[0mf\u001b[0m \u001b[1;32min\u001b[0m \u001b[0mclass0_paths\u001b[0m\u001b[1;33m]\u001b[0m\u001b[1;33m\u001b[0m\u001b[1;33m\u001b[0m\u001b[0m\n\u001b[0m\u001b[0;32m      3\u001b[0m \u001b[0mclass1_imgs\u001b[0m \u001b[1;33m=\u001b[0m \u001b[1;33m[\u001b[0m\u001b[0mcv2\u001b[0m\u001b[1;33m.\u001b[0m\u001b[0mresize\u001b[0m\u001b[1;33m(\u001b[0m\u001b[0mplt\u001b[0m\u001b[1;33m.\u001b[0m\u001b[0mimread\u001b[0m\u001b[1;33m(\u001b[0m\u001b[0mf\u001b[0m\u001b[1;33m)\u001b[0m\u001b[1;33m,\u001b[0m \u001b[1;33m(\u001b[0m\u001b[1;36m100\u001b[0m\u001b[1;33m,\u001b[0m\u001b[1;36m100\u001b[0m\u001b[1;33m)\u001b[0m\u001b[1;33m)\u001b[0m \u001b[1;32mfor\u001b[0m \u001b[0mf\u001b[0m \u001b[1;32min\u001b[0m \u001b[0mclass1_paths\u001b[0m\u001b[1;33m]\u001b[0m\u001b[1;33m\u001b[0m\u001b[1;33m\u001b[0m\u001b[0m\n\u001b[0;32m      4\u001b[0m \u001b[0mall_imgs\u001b[0m \u001b[1;33m=\u001b[0m \u001b[0mclass0_imgs\u001b[0m \u001b[1;33m+\u001b[0m \u001b[0mclass1_imgs\u001b[0m\u001b[1;33m\u001b[0m\u001b[1;33m\u001b[0m\u001b[0m\n\u001b[0;32m      5\u001b[0m \u001b[1;33m\u001b[0m\u001b[0m\n",
      "\u001b[1;32m<ipython-input-5-083c97372573>\u001b[0m in \u001b[0;36m<listcomp>\u001b[1;34m(.0)\u001b[0m\n\u001b[0;32m      1\u001b[0m \u001b[1;31m# Read all images.\u001b[0m\u001b[1;33m\u001b[0m\u001b[1;33m\u001b[0m\u001b[1;33m\u001b[0m\u001b[0m\n\u001b[1;32m----> 2\u001b[1;33m \u001b[0mclass0_imgs\u001b[0m \u001b[1;33m=\u001b[0m \u001b[1;33m[\u001b[0m\u001b[0mcv2\u001b[0m\u001b[1;33m.\u001b[0m\u001b[0mresize\u001b[0m\u001b[1;33m(\u001b[0m\u001b[0mplt\u001b[0m\u001b[1;33m.\u001b[0m\u001b[0mimread\u001b[0m\u001b[1;33m(\u001b[0m\u001b[0mf\u001b[0m\u001b[1;33m)\u001b[0m\u001b[1;33m,\u001b[0m \u001b[1;33m(\u001b[0m\u001b[1;36m100\u001b[0m\u001b[1;33m,\u001b[0m\u001b[1;36m100\u001b[0m\u001b[1;33m)\u001b[0m\u001b[1;33m)\u001b[0m \u001b[1;32mfor\u001b[0m \u001b[0mf\u001b[0m \u001b[1;32min\u001b[0m \u001b[0mclass0_paths\u001b[0m\u001b[1;33m]\u001b[0m\u001b[1;33m\u001b[0m\u001b[1;33m\u001b[0m\u001b[0m\n\u001b[0m\u001b[0;32m      3\u001b[0m \u001b[0mclass1_imgs\u001b[0m \u001b[1;33m=\u001b[0m \u001b[1;33m[\u001b[0m\u001b[0mcv2\u001b[0m\u001b[1;33m.\u001b[0m\u001b[0mresize\u001b[0m\u001b[1;33m(\u001b[0m\u001b[0mplt\u001b[0m\u001b[1;33m.\u001b[0m\u001b[0mimread\u001b[0m\u001b[1;33m(\u001b[0m\u001b[0mf\u001b[0m\u001b[1;33m)\u001b[0m\u001b[1;33m,\u001b[0m \u001b[1;33m(\u001b[0m\u001b[1;36m100\u001b[0m\u001b[1;33m,\u001b[0m\u001b[1;36m100\u001b[0m\u001b[1;33m)\u001b[0m\u001b[1;33m)\u001b[0m \u001b[1;32mfor\u001b[0m \u001b[0mf\u001b[0m \u001b[1;32min\u001b[0m \u001b[0mclass1_paths\u001b[0m\u001b[1;33m]\u001b[0m\u001b[1;33m\u001b[0m\u001b[1;33m\u001b[0m\u001b[0m\n\u001b[0;32m      4\u001b[0m \u001b[0mall_imgs\u001b[0m \u001b[1;33m=\u001b[0m \u001b[0mclass0_imgs\u001b[0m \u001b[1;33m+\u001b[0m \u001b[0mclass1_imgs\u001b[0m\u001b[1;33m\u001b[0m\u001b[1;33m\u001b[0m\u001b[0m\n\u001b[0;32m      5\u001b[0m \u001b[1;33m\u001b[0m\u001b[0m\n",
      "\u001b[1;31mNameError\u001b[0m: name 'cv2' is not defined"
     ]
    }
   ],
   "source": [
    "# Read all images.\n",
    "class0_imgs = [plt.imread(f) for f in class0_paths]\n",
    "class1_imgs = [plt.imread(f) for f in class1_paths]\n",
    "all_imgs = class0_imgs + class1_imgs\n",
    "\n",
    "# They're read in RGB format, but all values are [0 0 0] or [1 1 1] so we can binarize them like this.\n",
    "binarized_imgs = [np.sum(img, axis=2)/3 for img in all_imgs]\n",
    "\n",
    "# Shuffle the images along with their labels.\n",
    "all_imgs_and_labels = list(zip(binarized_imgs, np.append(np.zeros(len(class0_imgs)).astype(np.uint8), np.ones(len(class1_imgs)).astype(np.uint8))))\n",
    "random.shuffle(all_imgs_and_labels)\n",
    "\n",
    "# Reshape the data in order to be fitted.\n",
    "imgs, labels = zip(*all_imgs_and_labels)\n",
    "n_samples = len(imgs)\n",
    "data = np.array(imgs).reshape((n_samples, -1))\n",
    "print(data.shape)"
   ]
  },
  {
   "cell_type": "code",
   "execution_count": 17,
   "metadata": {},
   "outputs": [],
   "source": [
    "# Split the training and testing data.\n",
    "X_train, X_test, y_train, y_test = train_test_split(data, labels, test_size=0.25)"
   ]
  },
  {
   "cell_type": "code",
   "execution_count": 19,
   "metadata": {},
   "outputs": [
    {
     "data": {
      "text/plain": [
       "SVC(C=1.0, cache_size=200, class_weight=None, coef0=0.0,\n",
       "  decision_function_shape='ovr', degree=3, gamma=0.001, kernel='rbf',\n",
       "  max_iter=-1, probability=False, random_state=None, shrinking=True,\n",
       "  tol=0.001, verbose=False)"
      ]
     },
     "execution_count": 19,
     "metadata": {},
     "output_type": "execute_result"
    }
   ],
   "source": [
    "# Create a classifier: a support vector classifier\n",
    "classifier = svm.SVC(kernel='rbf', gamma=0.001)\n",
    "\n",
    "# Train the classifier on half of the data.\n",
    "classifier.fit(X_train, y_train)"
   ]
  },
  {
   "cell_type": "code",
   "execution_count": 20,
   "metadata": {},
   "outputs": [
    {
     "name": "stdout",
     "output_type": "stream",
     "text": [
      "Classification report for classifier SVC(C=1.0, cache_size=200, class_weight=None, coef0=0.0,\n",
      "  decision_function_shape='ovr', degree=3, gamma=0.001, kernel='rbf',\n",
      "  max_iter=-1, probability=False, random_state=None, shrinking=True,\n",
      "  tol=0.001, verbose=False):\n",
      "              precision    recall  f1-score   support\n",
      "\n",
      "           0       0.92      0.92      0.92       130\n",
      "           1       0.90      0.91      0.90       109\n",
      "\n",
      "   micro avg       0.91      0.91      0.91       239\n",
      "   macro avg       0.91      0.91      0.91       239\n",
      "weighted avg       0.91      0.91      0.91       239\n",
      "\n",
      "\n",
      "Confusion matrix:\n",
      "[[119  11]\n",
      " [ 10  99]]\n"
     ]
    }
   ],
   "source": [
    "# Now predict on the other half of the data.\n",
    "expected = y_test\n",
    "predicted = classifier.predict(X_test)\n",
    "\n",
    "print(\"Classification report for classifier %s:\\n%s\\n\"\n",
    "      % (classifier, metrics.classification_report(expected, predicted)))\n",
    "print(\"Confusion matrix:\\n%s\" % metrics.confusion_matrix(expected, predicted))"
   ]
  },
  {
   "cell_type": "code",
   "execution_count": 16,
   "metadata": {},
   "outputs": [
    {
     "data": {
      "image/png": "[encoded data removed]",
      "text/plain": [
       "<Figure size 432x288 with 8 Axes>"
      ]
     },
     "metadata": {
      "needs_background": "light"
     },
     "output_type": "display_data"
    },
    {
     "name": "stdout",
     "output_type": "stream",
     "text": [
      "[0 1 1 1 1 0 1 1]\n",
      "[0 1 1 1 1 1 1 1]\n"
     ]
    }
   ],
   "source": [
    "images_and_predictions = list(zip(X_test, predicted))\n",
    "for index, (image, prediction) in enumerate(images_and_predictions[20:28]):\n",
    "    plt.subplot(2, 4, index+1)\n",
    "    plt.axis('off')\n",
    "    plt.imshow(image.reshape((150,150)), cmap=plt.cm.gray_r, interpolation='nearest')\n",
    "    plt.title('Prediction: %i' % prediction)\n",
    "\n",
    "plt.show()\n",
    "print(np.array(expected[:8]).astype(np.uint8))\n",
    "print(np.array(predicted[:8]).astype(np.uint8))"
   ]
  },
  {
   "cell_type": "code",
   "execution_count": null,
   "metadata": {},
   "outputs": [],
   "source": [
    "# Let's also try a random forest for the lulz.\n",
    "rf_classifier = RandomForestClassifier(max_depth=5, n_estimators=10, max_features=1)\n",
    "rf_classifier.fit(X_train, y_train)"
   ]
  },
  {
   "cell_type": "code",
   "execution_count": null,
   "metadata": {},
   "outputs": [],
   "source": [
    "expected = y_test\n",
    "predicted = rf_classifier.predict(X_test)\n",
    "print(\"Classification report for classifier %s:\\n%s\\n\"\n",
    "      % (rf_classifier, metrics.classification_report(expected, predicted)))\n",
    "print(\"Confusion matrix:\\n%s\" % metrics.confusion_matrix(expected, predicted))"
   ]
  },
  {
   "cell_type": "code",
   "execution_count": null,
   "metadata": {},
   "outputs": [],
   "source": [
    "images_and_predictions = list(zip(X_test, predicted))\n",
    "for index, (image, prediction) in enumerate(images_and_predictions[:8]):\n",
    "    plt.subplot(2, 4, index+1)\n",
    "    plt.axis('off')\n",
    "    plt.imshow(image.reshape((150,150)), cmap=plt.cm.gray_r, interpolation='nearest')\n",
    "    plt.title('Prediction: %i' % prediction)\n",
    "\n",
    "plt.show()\n",
    "print(np.array(expected[:8]).astype(np.uint8))\n",
    "print(np.array(predicted[:8]).astype(np.uint8))"
   ]
  },
  {
   "cell_type": "code",
   "execution_count": null,
   "metadata": {},
   "outputs": [],
   "source": [
    "# Let's see how to get probabilistic results from the classifier.\n",
    "classifier = svm.SVC(probability=True, gamma=0.001, kernel='linear')\n",
    "classifier.fit(data, labels)"
   ]
  },
  {
   "cell_type": "code",
   "execution_count": null,
   "metadata": {},
   "outputs": [],
   "source": [
    "classifier_input = test_img.reshape((1,-1))\n",
    "print(classifier.predict(classifier_input))\n",
    "print(classifier.predict_proba(classifier_input))"
   ]
  },
  {
   "cell_type": "code",
   "execution_count": null,
   "metadata": {},
   "outputs": [],
   "source": [
    "classifier_input = (np.sum(class0_imgs[20],axis=2)/3).reshape((1,-1))\n",
    "print(classifier.predict(classifier_input))\n",
    "print(classifier.predict_proba(classifier_input))\n",
    "\n",
    "classifier_input = (np.sum(class1_imgs[20],axis=2)/3).reshape((1,-1))\n",
    "print(classifier.predict(classifier_input))\n",
    "print(classifier.predict_proba(classifier_input))"
   ]
  },
  {
   "cell_type": "code",
   "execution_count": null,
   "metadata": {},
   "outputs": [],
   "source": [
    "# Save the classifier, as training a probabilistic one seems to take around a minute.\n",
    "dump(classifier, 'models/hand_classifier_v3_linear.joblib') "
   ]
  },
  {
   "cell_type": "code",
   "execution_count": null,
   "metadata": {},
   "outputs": [],
   "source": [
    "def init_svm_classifier():\n",
    "    \"\"\"\n",
    "    Summary of all code above.\n",
    "    \"\"\"\n",
    "\n",
    "    # Read all segmented images.\n",
    "    class0_folder = \"data/right_hand_palm_segmented\"\n",
    "    class1_folder = \"data/right_hand_fist_segmented\"\n",
    "    class0_paths = [join(class0_folder, f) for f in listdir(class0_folder) if isfile(join(class0_folder, f))]\n",
    "    class1_paths = [join(class1_folder, f) for f in listdir(class1_folder) if isfile(join(class1_folder, f))]\n",
    "    class0_imgs = [plt.imread(f) for f in class0_paths]\n",
    "    class1_imgs = [plt.imread(f) for f in class1_paths]\n",
    "\n",
    "    # Put the dataset together. Then binarize the images (they're RGB but only with [0,0,0] and [1,1,1] values).\n",
    "    # Then shuffle the dataset.\n",
    "    all_imgs = class0_imgs + class1_imgs\n",
    "    binarized_imgs = [np.sum(img, axis=2)/3 for img in all_imgs]\n",
    "    labels = np.append(np.zeros(len(class0_imgs)).astype(np.uint8), np.ones(len(class1_imgs)).astype(np.uint8))\n",
    "    all_imgs_and_labels = list(zip(binarized_imgs, labels))\n",
    "    random.shuffle(all_imgs_and_labels)\n",
    "\n",
    "    # Now reshape the data in order to feed it to the classifier.\n",
    "    imgs, labels = zip(*all_imgs_and_labels)\n",
    "    n_samples = len(imgs)\n",
    "    data = np.array(imgs).reshape((n_samples, -1))\n",
    "\n",
    "    # Create a SVM classifier and fit it to the entire dataset (no need for train/test split, now we're actually\n",
    "    # making a \"production\" model).\n",
    "    classifier = svm.SVC(gamma=0.001)\n",
    "    classifier.fit(data, labels)\n",
    "\n",
    "    return classifier"
   ]
  },
  {
   "cell_type": "code",
   "execution_count": null,
   "metadata": {},
   "outputs": [],
   "source": [
    "# Try a logistic regression?\n",
    "logistic_classifier = LogisticRegression()"
   ]
  },
  {
   "cell_type": "code",
   "execution_count": null,
   "metadata": {},
   "outputs": [],
   "source": [
    "logistic_classifier.fit(data, labels)"
   ]
  },
  {
   "cell_type": "code",
   "execution_count": null,
   "metadata": {},
   "outputs": [],
   "source": [
    "classifier_input = (np.sum(class0_imgs[20],axis=2)/3).reshape((1,-1))\n",
    "print(np.min(classifier_input))\n",
    "print(classifier.predict(classifier_input))\n",
    "print(classifier.predict_proba(classifier_input))\n",
    "\n",
    "classifier_input = (np.sum(class1_imgs[20],axis=2)/3).reshape((1,-1))\n",
    "print(classifier.predict(classifier_input))\n",
    "print(classifier.predict_proba(classifier_input))"
   ]
  },
  {
   "cell_type": "code",
   "execution_count": null,
   "metadata": {},
   "outputs": [],
   "source": [
    "dump(logistic_classifier, 'models/hand_classifier_v2_logistic.joblib') "
   ]
  }
 ],
 "metadata": {
  "kernelspec": {
   "display_name": "Python 3",
   "language": "python",
   "name": "python3"
  },
  "language_info": {
   "codemirror_mode": {
    "name": "ipython",
    "version": 3
   },
   "file_extension": ".py",
   "mimetype": "text/x-python",
   "name": "python",
   "nbconvert_exporter": "python",
   "pygments_lexer": "ipython3",
   "version": "3.7.2"
  }
 },
 "nbformat": 4,
 "nbformat_minor": 2
}
